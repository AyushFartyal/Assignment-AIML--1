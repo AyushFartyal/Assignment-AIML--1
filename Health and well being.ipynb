# Import necessary libraries
import pandas as pd
import numpy as np
from sklearn.model_selection import train_test_split
from sklearn.preprocessing import StandardScaler
from sklearn.ensemble import RandomForestClassifier
from sklearn.metrics import accuracy_score, classification_report, confusion_matrix
import matplotlib.pyplot as plt
import seaborn as sns

# Step 1: Load Dataset
# Replace 'health_data.csv' with the path to your dataset
dataset = pd.read_csv('health_data.csv')

# Display dataset summary
print("Dataset Head:\n", dataset.head())
print("Dataset Info:\n", dataset.info())
print("Summary Statistics:\n", dataset.describe())

# Step 2: Data Preprocessing
# Replace 'target_column' with the column name for predictions
X = dataset.drop('target_column', axis=1)
y = dataset['target_column']

# Handle missing values (if any)
X.fillna(X.mean(), inplace=True)

# Train-Test Split
X_train, X_test, y_train, y_test = train_test_split(X, y, test_size=0.2, random_state=42)

# Feature Scaling
scaler = StandardScaler()
X_train = scaler.fit_transform(X_train)
X_test = scaler.transform(X_test)

# Step 3: Train Model
# Using Random Forest as an example
model = RandomForestClassifier(random_state=42)
model.fit(X_train, y_train)

# Step 4: Model Evaluation
y_pred = model.predict(X_test)

# Accuracy Score
accuracy = accuracy_score(y_test, y_pred)
print(f"Accuracy: {accuracy:.2f}")

# Classification Report
print("Classification Report:\n", classification_report(y_test, y_pred))

# Confusion Matrix
cm = confusion_matrix(y_test, y_pred)
plt.figure(figsize=(8, 6))
sns.heatmap(cm, annot=True, fmt='d', cmap='Blues', xticklabels=['Negative', 'Positive'], yticklabels=['Negative', 'Positive'])
plt.xlabel("Predicted")
plt.ylabel("Actual")
plt.title("Confusion Matrix")
plt.show()

# Feature Importance (optional)
feature_importances = pd.Series(model.feature_importances_, index=dataset.columns[:-1])
feature_importances.nlargest(10).plot(kind='barh')
plt.title("Feature Importances")
plt.show()
